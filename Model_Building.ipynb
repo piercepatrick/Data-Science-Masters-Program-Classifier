{
  "nbformat": 4,
  "nbformat_minor": 0,
  "metadata": {
    "colab": {
      "name": "Model Building.ipynb",
      "provenance": [],
      "collapsed_sections": [],
      "mount_file_id": "14iyxi0DKDP-8fTyYeoKoxc7xQNVy0RDz",
      "authorship_tag": "ABX9TyObRpvWokoXtrj8AW1pLiaZ",
      "include_colab_link": true
    },
    "kernelspec": {
      "name": "python3",
      "display_name": "Python 3"
    }
  },
  "cells": [
    {
      "cell_type": "markdown",
      "metadata": {
        "id": "view-in-github",
        "colab_type": "text"
      },
      "source": [
        "<a href=\"https://colab.research.google.com/github/piercepatrick/Masters-Program-Tuition-Predictor/blob/master/Model_Building.ipynb\" target=\"_parent\"><img src=\"https://colab.research.google.com/assets/colab-badge.svg\" alt=\"Open In Colab\"/></a>"
      ]
    },
    {
      "cell_type": "code",
      "metadata": {
        "id": "e5OnHURE8jN5",
        "colab_type": "code",
        "colab": {}
      },
      "source": [
        "import pandas as pd\n",
        "import matplotlib.pyplot as plt \n",
        "import numpy as np \n",
        "import matplotlib"
      ],
      "execution_count": null,
      "outputs": []
    },
    {
      "cell_type": "code",
      "metadata": {
        "id": "d_Lj81e-8oTy",
        "colab_type": "code",
        "colab": {
          "base_uri": "https://localhost:8080/",
          "height": 546
        },
        "outputId": "8862bdfd-86f1-4406-c6cd-635aa4697df0"
      },
      "source": [
        "df = pd.read_csv('/content/drive/My Drive/DS/Data Masters Programs/masters_final_df.csv')\n",
        "df.head()"
      ],
      "execution_count": null,
      "outputs": [
        {
          "output_type": "execute_result",
          "data": {
            "text/html": [
              "<div>\n",
              "<style scoped>\n",
              "    .dataframe tbody tr th:only-of-type {\n",
              "        vertical-align: middle;\n",
              "    }\n",
              "\n",
              "    .dataframe tbody tr th {\n",
              "        vertical-align: top;\n",
              "    }\n",
              "\n",
              "    .dataframe thead th {\n",
              "        text-align: right;\n",
              "    }\n",
              "</style>\n",
              "<table border=\"1\" class=\"dataframe\">\n",
              "  <thead>\n",
              "    <tr style=\"text-align: right;\">\n",
              "      <th></th>\n",
              "      <th>Unnamed: 0</th>\n",
              "      <th>university_name</th>\n",
              "      <th>program_name</th>\n",
              "      <th>tags</th>\n",
              "      <th>duration</th>\n",
              "      <th>tuition</th>\n",
              "      <th>start_date</th>\n",
              "      <th>description</th>\n",
              "      <th>state</th>\n",
              "      <th>city</th>\n",
              "      <th>world_ranking</th>\n",
              "      <th>disciplines</th>\n",
              "      <th>delivered</th>\n",
              "      <th>gpa</th>\n",
              "      <th>gre</th>\n",
              "      <th>toefl</th>\n",
              "      <th>ielts</th>\n",
              "      <th>credits</th>\n",
              "      <th>gpa_yn</th>\n",
              "      <th>university_tier_ranking</th>\n",
              "      <th>gmat_yn</th>\n",
              "      <th>ielts_yn</th>\n",
              "      <th>toefl_yn</th>\n",
              "      <th>gre_yn</th>\n",
              "      <th>fall_start_yn</th>\n",
              "      <th>spring_start_yn</th>\n",
              "      <th>summer_start_yn</th>\n",
              "      <th>desc_len</th>\n",
              "      <th>tuition_per_month</th>\n",
              "    </tr>\n",
              "  </thead>\n",
              "  <tbody>\n",
              "    <tr>\n",
              "      <th>0</th>\n",
              "      <td>0</td>\n",
              "      <td>University of Rochester</td>\n",
              "      <td>Data Science</td>\n",
              "      <td>M.Sc.</td>\n",
              "      <td>12.0</td>\n",
              "      <td>1784.0</td>\n",
              "      <td>8/25/2021</td>\n",
              "      <td>goergen institute data science offers stem acc...</td>\n",
              "      <td>New York</td>\n",
              "      <td>Rochester</td>\n",
              "      <td>125.0</td>\n",
              "      <td>Data Science &amp; Big Data</td>\n",
              "      <td>On Campus</td>\n",
              "      <td>NaN</td>\n",
              "      <td>Required</td>\n",
              "      <td>105.0</td>\n",
              "      <td>7.0</td>\n",
              "      <td>30.0</td>\n",
              "      <td>0</td>\n",
              "      <td>2</td>\n",
              "      <td>0</td>\n",
              "      <td>1</td>\n",
              "      <td>1</td>\n",
              "      <td>1</td>\n",
              "      <td>1</td>\n",
              "      <td>0</td>\n",
              "      <td>0</td>\n",
              "      <td>134</td>\n",
              "      <td>148.67</td>\n",
              "    </tr>\n",
              "    <tr>\n",
              "      <th>1</th>\n",
              "      <td>1</td>\n",
              "      <td>Bellevue University</td>\n",
              "      <td>Data Science</td>\n",
              "      <td>M.Sc.</td>\n",
              "      <td>24.0</td>\n",
              "      <td>585.0</td>\n",
              "      <td>3/9/2021</td>\n",
              "      <td>data science program bellevue university desig...</td>\n",
              "      <td>Nebraska</td>\n",
              "      <td>Bellevue</td>\n",
              "      <td>NaN</td>\n",
              "      <td>Data Science &amp; Big Data</td>\n",
              "      <td>Online</td>\n",
              "      <td>3.0</td>\n",
              "      <td>Not Required</td>\n",
              "      <td>71.0</td>\n",
              "      <td>0.0</td>\n",
              "      <td>30.0</td>\n",
              "      <td>1</td>\n",
              "      <td>5</td>\n",
              "      <td>0</td>\n",
              "      <td>1</td>\n",
              "      <td>1</td>\n",
              "      <td>0</td>\n",
              "      <td>0</td>\n",
              "      <td>1</td>\n",
              "      <td>0</td>\n",
              "      <td>127</td>\n",
              "      <td>24.38</td>\n",
              "    </tr>\n",
              "    <tr>\n",
              "      <th>2</th>\n",
              "      <td>2</td>\n",
              "      <td>New York University</td>\n",
              "      <td>Data Science</td>\n",
              "      <td>M.Sc.</td>\n",
              "      <td>24.0</td>\n",
              "      <td>22272.0</td>\n",
              "      <td>9/2/2021</td>\n",
              "      <td>master science data science new york universit...</td>\n",
              "      <td>New York</td>\n",
              "      <td>New York City</td>\n",
              "      <td>28.0</td>\n",
              "      <td>Data Science &amp; Big Data</td>\n",
              "      <td>On Campus</td>\n",
              "      <td>NaN</td>\n",
              "      <td>Required</td>\n",
              "      <td>105.0</td>\n",
              "      <td>7.0</td>\n",
              "      <td>36.0</td>\n",
              "      <td>0</td>\n",
              "      <td>1</td>\n",
              "      <td>0</td>\n",
              "      <td>1</td>\n",
              "      <td>1</td>\n",
              "      <td>1</td>\n",
              "      <td>1</td>\n",
              "      <td>0</td>\n",
              "      <td>0</td>\n",
              "      <td>199</td>\n",
              "      <td>928.00</td>\n",
              "    </tr>\n",
              "    <tr>\n",
              "      <th>3</th>\n",
              "      <td>3</td>\n",
              "      <td>Lipscomb University</td>\n",
              "      <td>Data Science</td>\n",
              "      <td>Master</td>\n",
              "      <td>12.0</td>\n",
              "      <td>1288.0</td>\n",
              "      <td>8/19/2020</td>\n",
              "      <td>data science program offered lipscomb universi...</td>\n",
              "      <td>Tennessee</td>\n",
              "      <td>Memphis</td>\n",
              "      <td>NaN</td>\n",
              "      <td>Informatics &amp; Information Sciences</td>\n",
              "      <td>On Campus</td>\n",
              "      <td>NaN</td>\n",
              "      <td>Not Required</td>\n",
              "      <td>71.0</td>\n",
              "      <td>0.0</td>\n",
              "      <td>30.0</td>\n",
              "      <td>0</td>\n",
              "      <td>5</td>\n",
              "      <td>0</td>\n",
              "      <td>1</td>\n",
              "      <td>1</td>\n",
              "      <td>0</td>\n",
              "      <td>1</td>\n",
              "      <td>0</td>\n",
              "      <td>0</td>\n",
              "      <td>128</td>\n",
              "      <td>107.33</td>\n",
              "    </tr>\n",
              "    <tr>\n",
              "      <th>4</th>\n",
              "      <td>4</td>\n",
              "      <td>University of Massachusetts Dartmouth</td>\n",
              "      <td>Data Science</td>\n",
              "      <td>M.Sc.</td>\n",
              "      <td>12.0</td>\n",
              "      <td>22183.0</td>\n",
              "      <td>4/15/2021</td>\n",
              "      <td>data science program university massachusetts ...</td>\n",
              "      <td>New York</td>\n",
              "      <td>New York City</td>\n",
              "      <td>191.0</td>\n",
              "      <td>Data Science &amp; Big Data</td>\n",
              "      <td>On Campus</td>\n",
              "      <td>3.0</td>\n",
              "      <td>Required</td>\n",
              "      <td>100.0</td>\n",
              "      <td>7.5</td>\n",
              "      <td>30.0</td>\n",
              "      <td>1</td>\n",
              "      <td>2</td>\n",
              "      <td>0</td>\n",
              "      <td>1</td>\n",
              "      <td>1</td>\n",
              "      <td>1</td>\n",
              "      <td>0</td>\n",
              "      <td>1</td>\n",
              "      <td>0</td>\n",
              "      <td>228</td>\n",
              "      <td>1848.58</td>\n",
              "    </tr>\n",
              "  </tbody>\n",
              "</table>\n",
              "</div>"
            ],
            "text/plain": [
              "   Unnamed: 0  ... tuition_per_month\n",
              "0           0  ...            148.67\n",
              "1           1  ...             24.38\n",
              "2           2  ...            928.00\n",
              "3           3  ...            107.33\n",
              "4           4  ...           1848.58\n",
              "\n",
              "[5 rows x 29 columns]"
            ]
          },
          "metadata": {
            "tags": []
          },
          "execution_count": 36
        }
      ]
    },
    {
      "cell_type": "code",
      "metadata": {
        "id": "Emj1CKM2g2b_",
        "colab_type": "code",
        "colab": {
          "base_uri": "https://localhost:8080/",
          "height": 145
        },
        "outputId": "af726de4-feac-488a-f1a7-90cfd1ce31fc"
      },
      "source": [
        "df.columns"
      ],
      "execution_count": null,
      "outputs": [
        {
          "output_type": "execute_result",
          "data": {
            "text/plain": [
              "Index(['Unnamed: 0', 'university_name', 'program_name', 'tags', 'duration',\n",
              "       'tuition', 'start_date', 'description', 'state', 'city',\n",
              "       'world_ranking', 'disciplines', 'delivered', 'gpa', 'gre', 'toefl',\n",
              "       'ielts', 'credits', 'gpa_yn', 'university_tier_ranking', 'gmat_yn',\n",
              "       'ielts_yn', 'toefl_yn', 'gre_yn', 'fall_start_yn', 'spring_start_yn',\n",
              "       'summer_start_yn', 'desc_len', 'tuition_per_month'],\n",
              "      dtype='object')"
            ]
          },
          "metadata": {
            "tags": []
          },
          "execution_count": 37
        }
      ]
    },
    {
      "cell_type": "code",
      "metadata": {
        "id": "HNbSVy43MKLl",
        "colab_type": "code",
        "colab": {
          "base_uri": "https://localhost:8080/",
          "height": 54
        },
        "outputId": "9147703e-b44d-44f4-db8e-f06196afd436"
      },
      "source": [
        "df.tags.unique()"
      ],
      "execution_count": null,
      "outputs": [
        {
          "output_type": "execute_result",
          "data": {
            "text/plain": [
              "array([' M.Sc. ', ' Master ', ' Postgraduate Certificate ', ' M.B.A. ',\n",
              "       ' M.A. ', ' M.Eng. '], dtype=object)"
            ]
          },
          "metadata": {
            "tags": []
          },
          "execution_count": 45
        }
      ]
    },
    {
      "cell_type": "code",
      "metadata": {
        "id": "vvyCQurkg-A7",
        "colab_type": "code",
        "colab": {}
      },
      "source": [
        "df_model = df[['tuition','university_tier_ranking','tags','duration','state','disciplines','delivered','gpa_yn',\n",
        "             'gre','toefl','ielts','credits','gmat_yn','fall_start_yn','spring_start_yn','summer_start_yn','desc_len']]"
      ],
      "execution_count": null,
      "outputs": []
    },
    {
      "cell_type": "code",
      "metadata": {
        "id": "3aijQaPOh_7a",
        "colab_type": "code",
        "colab": {
          "base_uri": "https://localhost:8080/",
          "height": 35
        },
        "outputId": "3f17aeb1-3466-4a40-cbd5-cfff8f795a3e"
      },
      "source": [
        "df_model.shape"
      ],
      "execution_count": null,
      "outputs": [
        {
          "output_type": "execute_result",
          "data": {
            "text/plain": [
              "(374, 17)"
            ]
          },
          "metadata": {
            "tags": []
          },
          "execution_count": 5
        }
      ]
    },
    {
      "cell_type": "code",
      "metadata": {
        "id": "WcAsi6XciBTV",
        "colab_type": "code",
        "colab": {}
      },
      "source": [
        "# get dummy data \n",
        "df_dum = pd.get_dummies(df_model)"
      ],
      "execution_count": null,
      "outputs": []
    },
    {
      "cell_type": "code",
      "metadata": {
        "id": "3tcxx6nBiKuP",
        "colab_type": "code",
        "colab": {
          "base_uri": "https://localhost:8080/",
          "height": 35
        },
        "outputId": "6ef9f523-5c73-4659-9153-7b040016be25"
      },
      "source": [
        "df_dum.shape"
      ],
      "execution_count": null,
      "outputs": [
        {
          "output_type": "execute_result",
          "data": {
            "text/plain": [
              "(374, 108)"
            ]
          },
          "metadata": {
            "tags": []
          },
          "execution_count": 7
        }
      ]
    },
    {
      "cell_type": "code",
      "metadata": {
        "id": "9nBgZlqaiLmd",
        "colab_type": "code",
        "colab": {}
      },
      "source": [
        "# Import machine learning libraries\n",
        "from sklearn.model_selection import train_test_split\n",
        "from sklearn.linear_model import LinearRegression, Lasso\n",
        "from sklearn.model_selection import cross_val_score"
      ],
      "execution_count": null,
      "outputs": []
    },
    {
      "cell_type": "code",
      "metadata": {
        "id": "gwD_ectfiQdl",
        "colab_type": "code",
        "colab": {}
      },
      "source": [
        "X = df_dum.drop('tuition', axis =1)\n",
        "y = df_dum.tuition.values"
      ],
      "execution_count": null,
      "outputs": []
    },
    {
      "cell_type": "code",
      "metadata": {
        "id": "T9hMAEGviQhr",
        "colab_type": "code",
        "colab": {}
      },
      "source": [
        "X_train, X_test, y_train, y_test = train_test_split(X, y, test_size=0.2, random_state=42)"
      ],
      "execution_count": null,
      "outputs": []
    },
    {
      "cell_type": "code",
      "metadata": {
        "id": "Q4J2lJfOiQvk",
        "colab_type": "code",
        "colab": {
          "base_uri": "https://localhost:8080/",
          "height": 1000
        },
        "outputId": "5b2b87ed-3c2c-4252-d7f2-caeb2c18c3a7"
      },
      "source": [
        "# Statsmodels multiple linear regression\n",
        "import statsmodels.api as sm\n",
        "\n",
        "X_sm = X = sm.add_constant(X)\n",
        "model = sm.OLS(y,X_sm)\n",
        "model.fit().summary()"
      ],
      "execution_count": null,
      "outputs": [
        {
          "output_type": "stream",
          "text": [
            "/usr/local/lib/python3.6/dist-packages/statsmodels/tools/_testing.py:19: FutureWarning: pandas.util.testing is deprecated. Use the functions in the public API at pandas.testing instead.\n",
            "  import pandas.util.testing as tm\n"
          ],
          "name": "stderr"
        },
        {
          "output_type": "execute_result",
          "data": {
            "text/html": [
              "<table class=\"simpletable\">\n",
              "<caption>OLS Regression Results</caption>\n",
              "<tr>\n",
              "  <th>Dep. Variable:</th>            <td>y</td>        <th>  R-squared:         </th> <td>   0.583</td>\n",
              "</tr>\n",
              "<tr>\n",
              "  <th>Model:</th>                   <td>OLS</td>       <th>  Adj. R-squared:    </th> <td>   0.424</td>\n",
              "</tr>\n",
              "<tr>\n",
              "  <th>Method:</th>             <td>Least Squares</td>  <th>  F-statistic:       </th> <td>   3.664</td>\n",
              "</tr>\n",
              "<tr>\n",
              "  <th>Date:</th>             <td>Thu, 09 Jul 2020</td> <th>  Prob (F-statistic):</th> <td>1.02e-17</td>\n",
              "</tr>\n",
              "<tr>\n",
              "  <th>Time:</th>                 <td>21:25:57</td>     <th>  Log-Likelihood:    </th> <td> -4035.9</td>\n",
              "</tr>\n",
              "<tr>\n",
              "  <th>No. Observations:</th>      <td>   374</td>      <th>  AIC:               </th> <td>   8280.</td>\n",
              "</tr>\n",
              "<tr>\n",
              "  <th>Df Residuals:</th>          <td>   270</td>      <th>  BIC:               </th> <td>   8688.</td>\n",
              "</tr>\n",
              "<tr>\n",
              "  <th>Df Model:</th>              <td>   103</td>      <th>                     </th>     <td> </td>   \n",
              "</tr>\n",
              "<tr>\n",
              "  <th>Covariance Type:</th>      <td>nonrobust</td>    <th>                     </th>     <td> </td>   \n",
              "</tr>\n",
              "</table>\n",
              "<table class=\"simpletable\">\n",
              "<tr>\n",
              "                           <td></td>                              <th>coef</th>     <th>std err</th>      <th>t</th>      <th>P>|t|</th>  <th>[0.025</th>    <th>0.975]</th>  \n",
              "</tr>\n",
              "<tr>\n",
              "  <th>const</th>                                               <td>  2.82e+04</td> <td> 4692.691</td> <td>    6.009</td> <td> 0.000</td> <td>  1.9e+04</td> <td> 3.74e+04</td>\n",
              "</tr>\n",
              "<tr>\n",
              "  <th>university_tier_ranking</th>                             <td>-5976.8041</td> <td>  681.529</td> <td>   -8.770</td> <td> 0.000</td> <td>-7318.590</td> <td>-4635.018</td>\n",
              "</tr>\n",
              "<tr>\n",
              "  <th>duration</th>                                            <td> -280.5373</td> <td>  143.679</td> <td>   -1.953</td> <td> 0.052</td> <td> -563.412</td> <td>    2.337</td>\n",
              "</tr>\n",
              "<tr>\n",
              "  <th>gpa_yn</th>                                              <td> 2116.0064</td> <td> 1704.757</td> <td>    1.241</td> <td> 0.216</td> <td>-1240.300</td> <td> 5472.313</td>\n",
              "</tr>\n",
              "<tr>\n",
              "  <th>toefl</th>                                               <td>   -1.5383</td> <td>   46.585</td> <td>   -0.033</td> <td> 0.974</td> <td>  -93.254</td> <td>   90.178</td>\n",
              "</tr>\n",
              "<tr>\n",
              "  <th>ielts</th>                                               <td> -452.7688</td> <td>  548.088</td> <td>   -0.826</td> <td> 0.409</td> <td>-1531.838</td> <td>  626.301</td>\n",
              "</tr>\n",
              "<tr>\n",
              "  <th>credits</th>                                             <td>  -51.2007</td> <td>   83.899</td> <td>   -0.610</td> <td> 0.542</td> <td> -216.381</td> <td>  113.979</td>\n",
              "</tr>\n",
              "<tr>\n",
              "  <th>gmat_yn</th>                                             <td> 3217.2635</td> <td> 2893.705</td> <td>    1.112</td> <td> 0.267</td> <td>-2479.831</td> <td> 8914.358</td>\n",
              "</tr>\n",
              "<tr>\n",
              "  <th>fall_start_yn</th>                                       <td>-3989.3528</td> <td> 2382.546</td> <td>   -1.674</td> <td> 0.095</td> <td>-8680.082</td> <td>  701.377</td>\n",
              "</tr>\n",
              "<tr>\n",
              "  <th>spring_start_yn</th>                                     <td>-5837.4704</td> <td> 3292.856</td> <td>   -1.773</td> <td> 0.077</td> <td>-1.23e+04</td> <td>  645.468</td>\n",
              "</tr>\n",
              "<tr>\n",
              "  <th>summer_start_yn</th>                                     <td>-1.297e+04</td> <td> 6039.009</td> <td>   -2.147</td> <td> 0.033</td> <td>-2.49e+04</td> <td>-1078.597</td>\n",
              "</tr>\n",
              "<tr>\n",
              "  <th>desc_len</th>                                            <td>   11.7373</td> <td>   14.409</td> <td>    0.815</td> <td> 0.416</td> <td>  -16.630</td> <td>   40.105</td>\n",
              "</tr>\n",
              "<tr>\n",
              "  <th>tags_ M.A. </th>                                         <td> 1.203e+04</td> <td> 5562.100</td> <td>    2.163</td> <td> 0.031</td> <td> 1079.626</td> <td>  2.3e+04</td>\n",
              "</tr>\n",
              "<tr>\n",
              "  <th>tags_ M.B.A. </th>                                       <td>-1.549e+04</td> <td> 8371.611</td> <td>   -1.851</td> <td> 0.065</td> <td> -3.2e+04</td> <td>  987.222</td>\n",
              "</tr>\n",
              "<tr>\n",
              "  <th>tags_ M.Eng. </th>                                       <td> 1.611e+04</td> <td> 7791.623</td> <td>    2.068</td> <td> 0.040</td> <td>  774.408</td> <td> 3.15e+04</td>\n",
              "</tr>\n",
              "<tr>\n",
              "  <th>tags_ M.Sc. </th>                                        <td> 9299.7598</td> <td> 2689.168</td> <td>    3.458</td> <td> 0.001</td> <td> 4005.355</td> <td> 1.46e+04</td>\n",
              "</tr>\n",
              "<tr>\n",
              "  <th>tags_ Master </th>                                       <td> 7203.1489</td> <td> 3244.478</td> <td>    2.220</td> <td> 0.027</td> <td>  815.457</td> <td> 1.36e+04</td>\n",
              "</tr>\n",
              "<tr>\n",
              "  <th>tags_ Postgraduate Certificate </th>                     <td> -956.3046</td> <td> 6150.207</td> <td>   -0.155</td> <td> 0.877</td> <td>-1.31e+04</td> <td> 1.12e+04</td>\n",
              "</tr>\n",
              "<tr>\n",
              "  <th>state_Alabama</th>                                       <td> 2056.1757</td> <td> 8537.818</td> <td>    0.241</td> <td> 0.810</td> <td>-1.48e+04</td> <td> 1.89e+04</td>\n",
              "</tr>\n",
              "<tr>\n",
              "  <th>state_Arizona</th>                                       <td> 1318.9463</td> <td> 5429.066</td> <td>    0.243</td> <td> 0.808</td> <td>-9369.740</td> <td>  1.2e+04</td>\n",
              "</tr>\n",
              "<tr>\n",
              "  <th>state_Arkansas</th>                                      <td> 4453.1821</td> <td> 1.02e+04</td> <td>    0.437</td> <td> 0.662</td> <td>-1.56e+04</td> <td> 2.45e+04</td>\n",
              "</tr>\n",
              "<tr>\n",
              "  <th>state_California</th>                                    <td>-1378.5826</td> <td> 2683.263</td> <td>   -0.514</td> <td> 0.608</td> <td>-6661.362</td> <td> 3904.197</td>\n",
              "</tr>\n",
              "<tr>\n",
              "  <th>state_Colorado</th>                                      <td>-1.642e+04</td> <td> 8842.793</td> <td>   -1.857</td> <td> 0.064</td> <td>-3.38e+04</td> <td>  990.880</td>\n",
              "</tr>\n",
              "<tr>\n",
              "  <th>state_Connecticut</th>                                   <td> 8102.6153</td> <td> 5183.615</td> <td>    1.563</td> <td> 0.119</td> <td>-2102.829</td> <td> 1.83e+04</td>\n",
              "</tr>\n",
              "<tr>\n",
              "  <th>state_Delaware</th>                                      <td>-1.735e+04</td> <td> 1.39e+04</td> <td>   -1.245</td> <td> 0.214</td> <td>-4.48e+04</td> <td> 1.01e+04</td>\n",
              "</tr>\n",
              "<tr>\n",
              "  <th>state_Florida</th>                                       <td>-6639.0297</td> <td> 4016.061</td> <td>   -1.653</td> <td> 0.099</td> <td>-1.45e+04</td> <td> 1267.747</td>\n",
              "</tr>\n",
              "<tr>\n",
              "  <th>state_Georgia</th>                                       <td> 9779.7104</td> <td> 5544.254</td> <td>    1.764</td> <td> 0.079</td> <td>-1135.757</td> <td> 2.07e+04</td>\n",
              "</tr>\n",
              "<tr>\n",
              "  <th>state_Idaho</th>                                         <td> 1.411e+04</td> <td>  1.4e+04</td> <td>    1.005</td> <td> 0.316</td> <td>-1.35e+04</td> <td> 4.17e+04</td>\n",
              "</tr>\n",
              "<tr>\n",
              "  <th>state_Illinois</th>                                      <td>-7131.2077</td> <td> 3109.217</td> <td>   -2.294</td> <td> 0.023</td> <td>-1.33e+04</td> <td>-1009.814</td>\n",
              "</tr>\n",
              "<tr>\n",
              "  <th>state_Indiana</th>                                       <td> 5281.6137</td> <td> 7219.602</td> <td>    0.732</td> <td> 0.465</td> <td>-8932.259</td> <td> 1.95e+04</td>\n",
              "</tr>\n",
              "<tr>\n",
              "  <th>state_Iowa</th>                                          <td> 1.539e+04</td> <td> 1.23e+04</td> <td>    1.247</td> <td> 0.213</td> <td>-8906.873</td> <td> 3.97e+04</td>\n",
              "</tr>\n",
              "<tr>\n",
              "  <th>state_Kansas</th>                                        <td> 6500.1054</td> <td> 1.02e+04</td> <td>    0.635</td> <td> 0.526</td> <td>-1.37e+04</td> <td> 2.67e+04</td>\n",
              "</tr>\n",
              "<tr>\n",
              "  <th>state_Kentucky</th>                                      <td> 1.127e+04</td> <td> 1.41e+04</td> <td>    0.798</td> <td> 0.426</td> <td>-1.65e+04</td> <td> 3.91e+04</td>\n",
              "</tr>\n",
              "<tr>\n",
              "  <th>state_Louisiana</th>                                     <td>-1.177e+04</td> <td> 7420.279</td> <td>   -1.587</td> <td> 0.114</td> <td>-2.64e+04</td> <td> 2836.001</td>\n",
              "</tr>\n",
              "<tr>\n",
              "  <th>state_Maine</th>                                         <td>-1.105e+04</td> <td>  1.4e+04</td> <td>   -0.790</td> <td> 0.430</td> <td>-3.86e+04</td> <td> 1.65e+04</td>\n",
              "</tr>\n",
              "<tr>\n",
              "  <th>state_Maryland</th>                                      <td> 3630.9926</td> <td> 5386.795</td> <td>    0.674</td> <td> 0.501</td> <td>-6974.470</td> <td> 1.42e+04</td>\n",
              "</tr>\n",
              "<tr>\n",
              "  <th>state_Massachusetts</th>                                 <td> 1.538e+04</td> <td> 4226.766</td> <td>    3.638</td> <td> 0.000</td> <td> 7054.885</td> <td> 2.37e+04</td>\n",
              "</tr>\n",
              "<tr>\n",
              "  <th>state_Michigan</th>                                      <td>-3434.6397</td> <td> 4142.264</td> <td>   -0.829</td> <td> 0.408</td> <td>-1.16e+04</td> <td> 4720.604</td>\n",
              "</tr>\n",
              "<tr>\n",
              "  <th>state_Minnesota</th>                                     <td>  1.88e+04</td> <td> 6716.908</td> <td>    2.800</td> <td> 0.005</td> <td> 5579.948</td> <td>  3.2e+04</td>\n",
              "</tr>\n",
              "<tr>\n",
              "  <th>state_Mississippi</th>                                   <td>-6140.9304</td> <td> 1.06e+04</td> <td>   -0.579</td> <td> 0.563</td> <td> -2.7e+04</td> <td> 1.47e+04</td>\n",
              "</tr>\n",
              "<tr>\n",
              "  <th>state_Missouri</th>                                      <td>  645.3169</td> <td> 4614.138</td> <td>    0.140</td> <td> 0.889</td> <td>-8438.947</td> <td> 9729.581</td>\n",
              "</tr>\n",
              "<tr>\n",
              "  <th>state_Montana</th>                                       <td>-6878.7233</td> <td> 1.38e+04</td> <td>   -0.499</td> <td> 0.618</td> <td> -3.4e+04</td> <td> 2.03e+04</td>\n",
              "</tr>\n",
              "<tr>\n",
              "  <th>state_Nebraska</th>                                      <td> -382.6266</td> <td> 6605.211</td> <td>   -0.058</td> <td> 0.954</td> <td>-1.34e+04</td> <td> 1.26e+04</td>\n",
              "</tr>\n",
              "<tr>\n",
              "  <th>state_Nevada</th>                                        <td> 8163.9353</td> <td>  1.4e+04</td> <td>    0.583</td> <td> 0.560</td> <td>-1.94e+04</td> <td> 3.57e+04</td>\n",
              "</tr>\n",
              "<tr>\n",
              "  <th>state_New Hampshire</th>                                 <td>-1376.1211</td> <td> 9898.272</td> <td>   -0.139</td> <td> 0.890</td> <td>-2.09e+04</td> <td> 1.81e+04</td>\n",
              "</tr>\n",
              "<tr>\n",
              "  <th>state_New Jersey</th>                                    <td>-3796.2004</td> <td> 4405.374</td> <td>   -0.862</td> <td> 0.390</td> <td>-1.25e+04</td> <td> 4877.051</td>\n",
              "</tr>\n",
              "<tr>\n",
              "  <th>state_New Mexico</th>                                    <td>  470.0659</td> <td> 8137.430</td> <td>    0.058</td> <td> 0.954</td> <td>-1.56e+04</td> <td> 1.65e+04</td>\n",
              "</tr>\n",
              "<tr>\n",
              "  <th>state_New York</th>                                      <td>-3645.8934</td> <td> 2836.438</td> <td>   -1.285</td> <td> 0.200</td> <td>-9230.241</td> <td> 1938.455</td>\n",
              "</tr>\n",
              "<tr>\n",
              "  <th>state_North Carolina</th>                                <td>  694.5577</td> <td> 6275.415</td> <td>    0.111</td> <td> 0.912</td> <td>-1.17e+04</td> <td>  1.3e+04</td>\n",
              "</tr>\n",
              "<tr>\n",
              "  <th>state_North Dakota</th>                                  <td> 1.674e+04</td> <td> 1.45e+04</td> <td>    1.152</td> <td> 0.251</td> <td>-1.19e+04</td> <td> 4.54e+04</td>\n",
              "</tr>\n",
              "<tr>\n",
              "  <th>state_Ohio</th>                                          <td> 5620.5108</td> <td> 4949.462</td> <td>    1.136</td> <td> 0.257</td> <td>-4123.935</td> <td> 1.54e+04</td>\n",
              "</tr>\n",
              "<tr>\n",
              "  <th>state_Oklahoma</th>                                      <td>-8351.9482</td> <td> 8512.829</td> <td>   -0.981</td> <td> 0.327</td> <td>-2.51e+04</td> <td> 8408.016</td>\n",
              "</tr>\n",
              "<tr>\n",
              "  <th>state_Oregon</th>                                        <td>-1.506e+04</td> <td> 8114.078</td> <td>   -1.856</td> <td> 0.065</td> <td> -3.1e+04</td> <td>  919.192</td>\n",
              "</tr>\n",
              "<tr>\n",
              "  <th>state_Pennsylvania</th>                                  <td>-4219.1413</td> <td> 3943.834</td> <td>   -1.070</td> <td> 0.286</td> <td> -1.2e+04</td> <td> 3545.435</td>\n",
              "</tr>\n",
              "<tr>\n",
              "  <th>state_Rhode Island</th>                                  <td> 1.538e+04</td> <td> 8463.916</td> <td>    1.817</td> <td> 0.070</td> <td>-1287.282</td> <td>  3.2e+04</td>\n",
              "</tr>\n",
              "<tr>\n",
              "  <th>state_South Carolina</th>                                <td>-1.105e+04</td> <td> 1.56e+04</td> <td>   -0.710</td> <td> 0.478</td> <td>-4.17e+04</td> <td> 1.96e+04</td>\n",
              "</tr>\n",
              "<tr>\n",
              "  <th>state_South Dakota</th>                                  <td>-1.146e+04</td> <td> 1.38e+04</td> <td>   -0.828</td> <td> 0.408</td> <td>-3.87e+04</td> <td> 1.58e+04</td>\n",
              "</tr>\n",
              "<tr>\n",
              "  <th>state_Tennessee</th>                                     <td> 6733.4392</td> <td> 5625.209</td> <td>    1.197</td> <td> 0.232</td> <td>-4341.410</td> <td> 1.78e+04</td>\n",
              "</tr>\n",
              "<tr>\n",
              "  <th>state_Texas</th>                                         <td>   40.5670</td> <td> 3543.625</td> <td>    0.011</td> <td> 0.991</td> <td>-6936.083</td> <td> 7017.217</td>\n",
              "</tr>\n",
              "<tr>\n",
              "  <th>state_Utah</th>                                          <td>  1.94e+04</td> <td> 1.42e+04</td> <td>    1.369</td> <td> 0.172</td> <td>-8492.034</td> <td> 4.73e+04</td>\n",
              "</tr>\n",
              "<tr>\n",
              "  <th>state_Vermont</th>                                       <td>-1.647e+04</td> <td> 1.01e+04</td> <td>   -1.632</td> <td> 0.104</td> <td>-3.63e+04</td> <td> 3401.588</td>\n",
              "</tr>\n",
              "<tr>\n",
              "  <th>state_Virginia</th>                                      <td> 1.838e+04</td> <td> 7189.937</td> <td>    2.557</td> <td> 0.011</td> <td> 4227.201</td> <td> 3.25e+04</td>\n",
              "</tr>\n",
              "<tr>\n",
              "  <th>state_Washington</th>                                    <td>  433.4892</td> <td> 9918.129</td> <td>    0.044</td> <td> 0.965</td> <td>-1.91e+04</td> <td>    2e+04</td>\n",
              "</tr>\n",
              "<tr>\n",
              "  <th>state_Washington, D.C.</th>                              <td>-1.505e+04</td> <td> 5000.835</td> <td>   -3.009</td> <td> 0.003</td> <td>-2.49e+04</td> <td>-5203.608</td>\n",
              "</tr>\n",
              "<tr>\n",
              "  <th>state_West Virginia</th>                                 <td> 3170.7275</td> <td> 8172.626</td> <td>    0.388</td> <td> 0.698</td> <td>-1.29e+04</td> <td> 1.93e+04</td>\n",
              "</tr>\n",
              "<tr>\n",
              "  <th>state_Wisconsin</th>                                     <td>-4705.7498</td> <td> 5078.873</td> <td>   -0.927</td> <td> 0.355</td> <td>-1.47e+04</td> <td> 5293.479</td>\n",
              "</tr>\n",
              "<tr>\n",
              "  <th>disciplines_Accounting</th>                              <td> 2699.8011</td> <td> 1.04e+04</td> <td>    0.258</td> <td> 0.796</td> <td>-1.79e+04</td> <td> 2.33e+04</td>\n",
              "</tr>\n",
              "<tr>\n",
              "  <th>disciplines_Agribusiness</th>                            <td>-1.544e+04</td> <td> 1.48e+04</td> <td>   -1.044</td> <td> 0.297</td> <td>-4.45e+04</td> <td> 1.37e+04</td>\n",
              "</tr>\n",
              "<tr>\n",
              "  <th>disciplines_Applied Mathematics</th>                     <td> 2912.9377</td> <td> 6851.624</td> <td>    0.425</td> <td> 0.671</td> <td>-1.06e+04</td> <td> 1.64e+04</td>\n",
              "</tr>\n",
              "<tr>\n",
              "  <th>disciplines_Astronomy & Space Sciences</th>              <td>-2.459e+04</td> <td>  1.4e+04</td> <td>   -1.754</td> <td> 0.081</td> <td>-5.22e+04</td> <td> 3011.620</td>\n",
              "</tr>\n",
              "<tr>\n",
              "  <th>disciplines_Bio & Biomedical Engineering</th>            <td>-6764.4181</td> <td>  1.2e+04</td> <td>   -0.562</td> <td> 0.575</td> <td>-3.05e+04</td> <td> 1.69e+04</td>\n",
              "</tr>\n",
              "<tr>\n",
              "  <th>disciplines_Biology</th>                                 <td>-1.152e+04</td> <td> 5116.440</td> <td>   -2.252</td> <td> 0.025</td> <td>-2.16e+04</td> <td>-1446.850</td>\n",
              "</tr>\n",
              "<tr>\n",
              "  <th>disciplines_Biomedicine</th>                             <td> 1.357e+04</td> <td> 7380.438</td> <td>    1.839</td> <td> 0.067</td> <td> -957.912</td> <td> 2.81e+04</td>\n",
              "</tr>\n",
              "<tr>\n",
              "  <th>disciplines_Biotechnology</th>                           <td>-3015.6118</td> <td> 1.43e+04</td> <td>   -0.210</td> <td> 0.833</td> <td>-3.12e+04</td> <td> 2.52e+04</td>\n",
              "</tr>\n",
              "<tr>\n",
              "  <th>disciplines_Business Administration</th>                 <td>-1.405e+04</td> <td> 7260.178</td> <td>   -1.935</td> <td> 0.054</td> <td>-2.83e+04</td> <td>  246.332</td>\n",
              "</tr>\n",
              "<tr>\n",
              "  <th>disciplines_Business Information Systems</th>            <td>-8944.6003</td> <td> 8809.254</td> <td>   -1.015</td> <td> 0.311</td> <td>-2.63e+04</td> <td> 8398.961</td>\n",
              "</tr>\n",
              "<tr>\n",
              "  <th>disciplines_Business Intelligence & Analytics</th>       <td>-2136.1652</td> <td> 2988.141</td> <td>   -0.715</td> <td> 0.475</td> <td>-8019.184</td> <td> 3746.854</td>\n",
              "</tr>\n",
              "<tr>\n",
              "  <th>disciplines_Communication Sciences</th>                  <td>   1.2e+04</td> <td> 1.08e+04</td> <td>    1.113</td> <td> 0.267</td> <td>-9221.934</td> <td> 3.32e+04</td>\n",
              "</tr>\n",
              "<tr>\n",
              "  <th>disciplines_Computer Science & IT</th>                   <td> 4.438e+04</td> <td> 1.47e+04</td> <td>    3.019</td> <td> 0.003</td> <td> 1.54e+04</td> <td> 7.33e+04</td>\n",
              "</tr>\n",
              "<tr>\n",
              "  <th>disciplines_Computer Sciences</th>                       <td>-2822.4174</td> <td> 2454.120</td> <td>   -1.150</td> <td> 0.251</td> <td>-7654.062</td> <td> 2009.227</td>\n",
              "</tr>\n",
              "<tr>\n",
              "  <th>disciplines_Data Science & Big Data</th>                 <td>-2933.9192</td> <td> 2677.172</td> <td>   -1.096</td> <td> 0.274</td> <td>-8204.705</td> <td> 2336.867</td>\n",
              "</tr>\n",
              "<tr>\n",
              "  <th>disciplines_Design</th>                                  <td>-1.277e+04</td> <td>  1.4e+04</td> <td>   -0.915</td> <td> 0.361</td> <td>-4.02e+04</td> <td> 1.47e+04</td>\n",
              "</tr>\n",
              "<tr>\n",
              "  <th>disciplines_Economics</th>                               <td> 3044.7028</td> <td> 6568.037</td> <td>    0.464</td> <td> 0.643</td> <td>-9886.377</td> <td>  1.6e+04</td>\n",
              "</tr>\n",
              "<tr>\n",
              "  <th>disciplines_Electrical Engineering</th>                  <td>-1.986e+04</td> <td> 8952.189</td> <td>   -2.218</td> <td> 0.027</td> <td>-3.75e+04</td> <td>-2234.361</td>\n",
              "</tr>\n",
              "<tr>\n",
              "  <th>disciplines_Executive MBA</th>                           <td> 2.473e+04</td> <td> 1.62e+04</td> <td>    1.530</td> <td> 0.127</td> <td>-7091.490</td> <td> 5.65e+04</td>\n",
              "</tr>\n",
              "<tr>\n",
              "  <th>disciplines_Finance</th>                                 <td> 3.053e+04</td> <td> 1.45e+04</td> <td>    2.111</td> <td> 0.036</td> <td> 2055.503</td> <td>  5.9e+04</td>\n",
              "</tr>\n",
              "<tr>\n",
              "  <th>disciplines_General Engineering & Technology</th>        <td>-6061.7901</td> <td> 6643.931</td> <td>   -0.912</td> <td> 0.362</td> <td>-1.91e+04</td> <td> 7018.709</td>\n",
              "</tr>\n",
              "<tr>\n",
              "  <th>disciplines_Geographical Information Systems (GIS)</th>  <td> 5163.1640</td> <td> 1.75e+04</td> <td>    0.294</td> <td> 0.769</td> <td>-2.94e+04</td> <td> 3.97e+04</td>\n",
              "</tr>\n",
              "<tr>\n",
              "  <th>disciplines_Geography</th>                               <td>-1.923e+04</td> <td> 1.21e+04</td> <td>   -1.587</td> <td> 0.114</td> <td>-4.31e+04</td> <td> 4619.143</td>\n",
              "</tr>\n",
              "<tr>\n",
              "  <th>disciplines_Health Sciences</th>                         <td> 1.072e+04</td> <td> 1.44e+04</td> <td>    0.743</td> <td> 0.458</td> <td>-1.77e+04</td> <td> 3.91e+04</td>\n",
              "</tr>\n",
              "<tr>\n",
              "  <th>disciplines_Informatics & Information Sciences</th>      <td>-4435.6015</td> <td> 4040.039</td> <td>   -1.098</td> <td> 0.273</td> <td>-1.24e+04</td> <td> 3518.383</td>\n",
              "</tr>\n",
              "<tr>\n",
              "  <th>disciplines_International Relations</th>                 <td>-1.088e+04</td> <td> 1.52e+04</td> <td>   -0.717</td> <td> 0.474</td> <td>-4.07e+04</td> <td>  1.9e+04</td>\n",
              "</tr>\n",
              "<tr>\n",
              "  <th>disciplines_Management, Organisation & Leadership</th>   <td>-1.625e+04</td> <td> 1.63e+04</td> <td>   -0.998</td> <td> 0.319</td> <td>-4.83e+04</td> <td> 1.58e+04</td>\n",
              "</tr>\n",
              "<tr>\n",
              "  <th>disciplines_Marketing</th>                               <td> 1393.7216</td> <td> 7039.978</td> <td>    0.198</td> <td> 0.843</td> <td>-1.25e+04</td> <td> 1.53e+04</td>\n",
              "</tr>\n",
              "<tr>\n",
              "  <th>disciplines_Master in Business Administration (MBA)</th> <td> 7.238e+04</td> <td> 1.81e+04</td> <td>    4.010</td> <td> 0.000</td> <td> 3.68e+04</td> <td> 1.08e+05</td>\n",
              "</tr>\n",
              "<tr>\n",
              "  <th>disciplines_Mathematics</th>                             <td>-7716.5258</td> <td> 4743.106</td> <td>   -1.627</td> <td> 0.105</td> <td>-1.71e+04</td> <td> 1621.649</td>\n",
              "</tr>\n",
              "<tr>\n",
              "  <th>disciplines_Political Science</th>                       <td>-8336.0644</td> <td> 1.42e+04</td> <td>   -0.587</td> <td> 0.558</td> <td>-3.63e+04</td> <td> 1.96e+04</td>\n",
              "</tr>\n",
              "<tr>\n",
              "  <th>disciplines_Psychology</th>                              <td> 1.806e+04</td> <td> 1.47e+04</td> <td>    1.232</td> <td> 0.219</td> <td>-1.08e+04</td> <td> 4.69e+04</td>\n",
              "</tr>\n",
              "<tr>\n",
              "  <th>disciplines_Public Health</th>                           <td>-1.932e+04</td> <td>  1.1e+04</td> <td>   -1.757</td> <td> 0.080</td> <td> -4.1e+04</td> <td> 2328.410</td>\n",
              "</tr>\n",
              "<tr>\n",
              "  <th>disciplines_Public Policy</th>                           <td> 2.128e+04</td> <td> 8574.309</td> <td>    2.482</td> <td> 0.014</td> <td> 4397.092</td> <td> 3.82e+04</td>\n",
              "</tr>\n",
              "<tr>\n",
              "  <th>disciplines_Social Work</th>                             <td>-8446.3899</td> <td> 1.43e+04</td> <td>   -0.592</td> <td> 0.554</td> <td>-3.65e+04</td> <td> 1.96e+04</td>\n",
              "</tr>\n",
              "<tr>\n",
              "  <th>disciplines_Statistics</th>                              <td> 3030.2454</td> <td> 3096.267</td> <td>    0.979</td> <td> 0.329</td> <td>-3065.652</td> <td> 9126.143</td>\n",
              "</tr>\n",
              "<tr>\n",
              "  <th>disciplines_Technology Management</th>                   <td> -1.22e+04</td> <td> 1.04e+04</td> <td>   -1.171</td> <td> 0.242</td> <td>-3.27e+04</td> <td> 8303.538</td>\n",
              "</tr>\n",
              "<tr>\n",
              "  <th>delivered_Blended</th>                                   <td>-6208.9947</td> <td> 4703.040</td> <td>   -1.320</td> <td> 0.188</td> <td>-1.55e+04</td> <td> 3050.299</td>\n",
              "</tr>\n",
              "<tr>\n",
              "  <th>delivered_On Campus</th>                                 <td> -888.1053</td> <td> 2620.732</td> <td>   -0.339</td> <td> 0.735</td> <td>-6047.773</td> <td> 4271.562</td>\n",
              "</tr>\n",
              "<tr>\n",
              "  <th>delivered_Online</th>                                    <td>-1.167e+04</td> <td> 4143.246</td> <td>   -2.817</td> <td> 0.005</td> <td>-1.98e+04</td> <td>-3513.422</td>\n",
              "</tr>\n",
              "<tr>\n",
              "  <th>gre_Not Required</th>                                    <td> 1.398e+04</td> <td> 2552.680</td> <td>    5.477</td> <td> 0.000</td> <td> 8955.669</td> <td>  1.9e+04</td>\n",
              "</tr>\n",
              "<tr>\n",
              "  <th>gre_Required</th>                                        <td> 1.422e+04</td> <td> 2579.131</td> <td>    5.512</td> <td> 0.000</td> <td> 9137.468</td> <td> 1.93e+04</td>\n",
              "</tr>\n",
              "</table>\n",
              "<table class=\"simpletable\">\n",
              "<tr>\n",
              "  <th>Omnibus:</th>       <td>14.548</td> <th>  Durbin-Watson:     </th> <td>   1.949</td>\n",
              "</tr>\n",
              "<tr>\n",
              "  <th>Prob(Omnibus):</th> <td> 0.001</td> <th>  Jarque-Bera (JB):  </th> <td>  16.777</td>\n",
              "</tr>\n",
              "<tr>\n",
              "  <th>Skew:</th>          <td> 0.392</td> <th>  Prob(JB):          </th> <td>0.000227</td>\n",
              "</tr>\n",
              "<tr>\n",
              "  <th>Kurtosis:</th>      <td> 3.679</td> <th>  Cond. No.          </th> <td>9.31e+17</td>\n",
              "</tr>\n",
              "</table><br/><br/>Warnings:<br/>[1] Standard Errors assume that the covariance matrix of the errors is correctly specified.<br/>[2] The smallest eigenvalue is 2.18e-29. This might indicate that there are<br/>strong multicollinearity problems or that the design matrix is singular."
            ],
            "text/plain": [
              "<class 'statsmodels.iolib.summary.Summary'>\n",
              "\"\"\"\n",
              "                            OLS Regression Results                            \n",
              "==============================================================================\n",
              "Dep. Variable:                      y   R-squared:                       0.583\n",
              "Model:                            OLS   Adj. R-squared:                  0.424\n",
              "Method:                 Least Squares   F-statistic:                     3.664\n",
              "Date:                Thu, 09 Jul 2020   Prob (F-statistic):           1.02e-17\n",
              "Time:                        21:25:57   Log-Likelihood:                -4035.9\n",
              "No. Observations:                 374   AIC:                             8280.\n",
              "Df Residuals:                     270   BIC:                             8688.\n",
              "Df Model:                         103                                         \n",
              "Covariance Type:            nonrobust                                         \n",
              "=======================================================================================================================\n",
              "                                                          coef    std err          t      P>|t|      [0.025      0.975]\n",
              "-----------------------------------------------------------------------------------------------------------------------\n",
              "const                                                 2.82e+04   4692.691      6.009      0.000     1.9e+04    3.74e+04\n",
              "university_tier_ranking                             -5976.8041    681.529     -8.770      0.000   -7318.590   -4635.018\n",
              "duration                                             -280.5373    143.679     -1.953      0.052    -563.412       2.337\n",
              "gpa_yn                                               2116.0064   1704.757      1.241      0.216   -1240.300    5472.313\n",
              "toefl                                                  -1.5383     46.585     -0.033      0.974     -93.254      90.178\n",
              "ielts                                                -452.7688    548.088     -0.826      0.409   -1531.838     626.301\n",
              "credits                                               -51.2007     83.899     -0.610      0.542    -216.381     113.979\n",
              "gmat_yn                                              3217.2635   2893.705      1.112      0.267   -2479.831    8914.358\n",
              "fall_start_yn                                       -3989.3528   2382.546     -1.674      0.095   -8680.082     701.377\n",
              "spring_start_yn                                     -5837.4704   3292.856     -1.773      0.077   -1.23e+04     645.468\n",
              "summer_start_yn                                     -1.297e+04   6039.009     -2.147      0.033   -2.49e+04   -1078.597\n",
              "desc_len                                               11.7373     14.409      0.815      0.416     -16.630      40.105\n",
              "tags_ M.A.                                           1.203e+04   5562.100      2.163      0.031    1079.626     2.3e+04\n",
              "tags_ M.B.A.                                        -1.549e+04   8371.611     -1.851      0.065    -3.2e+04     987.222\n",
              "tags_ M.Eng.                                         1.611e+04   7791.623      2.068      0.040     774.408    3.15e+04\n",
              "tags_ M.Sc.                                          9299.7598   2689.168      3.458      0.001    4005.355    1.46e+04\n",
              "tags_ Master                                         7203.1489   3244.478      2.220      0.027     815.457    1.36e+04\n",
              "tags_ Postgraduate Certificate                       -956.3046   6150.207     -0.155      0.877   -1.31e+04    1.12e+04\n",
              "state_Alabama                                        2056.1757   8537.818      0.241      0.810   -1.48e+04    1.89e+04\n",
              "state_Arizona                                        1318.9463   5429.066      0.243      0.808   -9369.740     1.2e+04\n",
              "state_Arkansas                                       4453.1821   1.02e+04      0.437      0.662   -1.56e+04    2.45e+04\n",
              "state_California                                    -1378.5826   2683.263     -0.514      0.608   -6661.362    3904.197\n",
              "state_Colorado                                      -1.642e+04   8842.793     -1.857      0.064   -3.38e+04     990.880\n",
              "state_Connecticut                                    8102.6153   5183.615      1.563      0.119   -2102.829    1.83e+04\n",
              "state_Delaware                                      -1.735e+04   1.39e+04     -1.245      0.214   -4.48e+04    1.01e+04\n",
              "state_Florida                                       -6639.0297   4016.061     -1.653      0.099   -1.45e+04    1267.747\n",
              "state_Georgia                                        9779.7104   5544.254      1.764      0.079   -1135.757    2.07e+04\n",
              "state_Idaho                                          1.411e+04    1.4e+04      1.005      0.316   -1.35e+04    4.17e+04\n",
              "state_Illinois                                      -7131.2077   3109.217     -2.294      0.023   -1.33e+04   -1009.814\n",
              "state_Indiana                                        5281.6137   7219.602      0.732      0.465   -8932.259    1.95e+04\n",
              "state_Iowa                                           1.539e+04   1.23e+04      1.247      0.213   -8906.873    3.97e+04\n",
              "state_Kansas                                         6500.1054   1.02e+04      0.635      0.526   -1.37e+04    2.67e+04\n",
              "state_Kentucky                                       1.127e+04   1.41e+04      0.798      0.426   -1.65e+04    3.91e+04\n",
              "state_Louisiana                                     -1.177e+04   7420.279     -1.587      0.114   -2.64e+04    2836.001\n",
              "state_Maine                                         -1.105e+04    1.4e+04     -0.790      0.430   -3.86e+04    1.65e+04\n",
              "state_Maryland                                       3630.9926   5386.795      0.674      0.501   -6974.470    1.42e+04\n",
              "state_Massachusetts                                  1.538e+04   4226.766      3.638      0.000    7054.885    2.37e+04\n",
              "state_Michigan                                      -3434.6397   4142.264     -0.829      0.408   -1.16e+04    4720.604\n",
              "state_Minnesota                                       1.88e+04   6716.908      2.800      0.005    5579.948     3.2e+04\n",
              "state_Mississippi                                   -6140.9304   1.06e+04     -0.579      0.563    -2.7e+04    1.47e+04\n",
              "state_Missouri                                        645.3169   4614.138      0.140      0.889   -8438.947    9729.581\n",
              "state_Montana                                       -6878.7233   1.38e+04     -0.499      0.618    -3.4e+04    2.03e+04\n",
              "state_Nebraska                                       -382.6266   6605.211     -0.058      0.954   -1.34e+04    1.26e+04\n",
              "state_Nevada                                         8163.9353    1.4e+04      0.583      0.560   -1.94e+04    3.57e+04\n",
              "state_New Hampshire                                 -1376.1211   9898.272     -0.139      0.890   -2.09e+04    1.81e+04\n",
              "state_New Jersey                                    -3796.2004   4405.374     -0.862      0.390   -1.25e+04    4877.051\n",
              "state_New Mexico                                      470.0659   8137.430      0.058      0.954   -1.56e+04    1.65e+04\n",
              "state_New York                                      -3645.8934   2836.438     -1.285      0.200   -9230.241    1938.455\n",
              "state_North Carolina                                  694.5577   6275.415      0.111      0.912   -1.17e+04     1.3e+04\n",
              "state_North Dakota                                   1.674e+04   1.45e+04      1.152      0.251   -1.19e+04    4.54e+04\n",
              "state_Ohio                                           5620.5108   4949.462      1.136      0.257   -4123.935    1.54e+04\n",
              "state_Oklahoma                                      -8351.9482   8512.829     -0.981      0.327   -2.51e+04    8408.016\n",
              "state_Oregon                                        -1.506e+04   8114.078     -1.856      0.065    -3.1e+04     919.192\n",
              "state_Pennsylvania                                  -4219.1413   3943.834     -1.070      0.286    -1.2e+04    3545.435\n",
              "state_Rhode Island                                   1.538e+04   8463.916      1.817      0.070   -1287.282     3.2e+04\n",
              "state_South Carolina                                -1.105e+04   1.56e+04     -0.710      0.478   -4.17e+04    1.96e+04\n",
              "state_South Dakota                                  -1.146e+04   1.38e+04     -0.828      0.408   -3.87e+04    1.58e+04\n",
              "state_Tennessee                                      6733.4392   5625.209      1.197      0.232   -4341.410    1.78e+04\n",
              "state_Texas                                            40.5670   3543.625      0.011      0.991   -6936.083    7017.217\n",
              "state_Utah                                            1.94e+04   1.42e+04      1.369      0.172   -8492.034    4.73e+04\n",
              "state_Vermont                                       -1.647e+04   1.01e+04     -1.632      0.104   -3.63e+04    3401.588\n",
              "state_Virginia                                       1.838e+04   7189.937      2.557      0.011    4227.201    3.25e+04\n",
              "state_Washington                                      433.4892   9918.129      0.044      0.965   -1.91e+04       2e+04\n",
              "state_Washington, D.C.                              -1.505e+04   5000.835     -3.009      0.003   -2.49e+04   -5203.608\n",
              "state_West Virginia                                  3170.7275   8172.626      0.388      0.698   -1.29e+04    1.93e+04\n",
              "state_Wisconsin                                     -4705.7498   5078.873     -0.927      0.355   -1.47e+04    5293.479\n",
              "disciplines_Accounting                               2699.8011   1.04e+04      0.258      0.796   -1.79e+04    2.33e+04\n",
              "disciplines_Agribusiness                            -1.544e+04   1.48e+04     -1.044      0.297   -4.45e+04    1.37e+04\n",
              "disciplines_Applied Mathematics                      2912.9377   6851.624      0.425      0.671   -1.06e+04    1.64e+04\n",
              "disciplines_Astronomy & Space Sciences              -2.459e+04    1.4e+04     -1.754      0.081   -5.22e+04    3011.620\n",
              "disciplines_Bio & Biomedical Engineering            -6764.4181    1.2e+04     -0.562      0.575   -3.05e+04    1.69e+04\n",
              "disciplines_Biology                                 -1.152e+04   5116.440     -2.252      0.025   -2.16e+04   -1446.850\n",
              "disciplines_Biomedicine                              1.357e+04   7380.438      1.839      0.067    -957.912    2.81e+04\n",
              "disciplines_Biotechnology                           -3015.6118   1.43e+04     -0.210      0.833   -3.12e+04    2.52e+04\n",
              "disciplines_Business Administration                 -1.405e+04   7260.178     -1.935      0.054   -2.83e+04     246.332\n",
              "disciplines_Business Information Systems            -8944.6003   8809.254     -1.015      0.311   -2.63e+04    8398.961\n",
              "disciplines_Business Intelligence & Analytics       -2136.1652   2988.141     -0.715      0.475   -8019.184    3746.854\n",
              "disciplines_Communication Sciences                     1.2e+04   1.08e+04      1.113      0.267   -9221.934    3.32e+04\n",
              "disciplines_Computer Science & IT                    4.438e+04   1.47e+04      3.019      0.003    1.54e+04    7.33e+04\n",
              "disciplines_Computer Sciences                       -2822.4174   2454.120     -1.150      0.251   -7654.062    2009.227\n",
              "disciplines_Data Science & Big Data                 -2933.9192   2677.172     -1.096      0.274   -8204.705    2336.867\n",
              "disciplines_Design                                  -1.277e+04    1.4e+04     -0.915      0.361   -4.02e+04    1.47e+04\n",
              "disciplines_Economics                                3044.7028   6568.037      0.464      0.643   -9886.377     1.6e+04\n",
              "disciplines_Electrical Engineering                  -1.986e+04   8952.189     -2.218      0.027   -3.75e+04   -2234.361\n",
              "disciplines_Executive MBA                            2.473e+04   1.62e+04      1.530      0.127   -7091.490    5.65e+04\n",
              "disciplines_Finance                                  3.053e+04   1.45e+04      2.111      0.036    2055.503     5.9e+04\n",
              "disciplines_General Engineering & Technology        -6061.7901   6643.931     -0.912      0.362   -1.91e+04    7018.709\n",
              "disciplines_Geographical Information Systems (GIS)   5163.1640   1.75e+04      0.294      0.769   -2.94e+04    3.97e+04\n",
              "disciplines_Geography                               -1.923e+04   1.21e+04     -1.587      0.114   -4.31e+04    4619.143\n",
              "disciplines_Health Sciences                          1.072e+04   1.44e+04      0.743      0.458   -1.77e+04    3.91e+04\n",
              "disciplines_Informatics & Information Sciences      -4435.6015   4040.039     -1.098      0.273   -1.24e+04    3518.383\n",
              "disciplines_International Relations                 -1.088e+04   1.52e+04     -0.717      0.474   -4.07e+04     1.9e+04\n",
              "disciplines_Management, Organisation & Leadership   -1.625e+04   1.63e+04     -0.998      0.319   -4.83e+04    1.58e+04\n",
              "disciplines_Marketing                                1393.7216   7039.978      0.198      0.843   -1.25e+04    1.53e+04\n",
              "disciplines_Master in Business Administration (MBA)  7.238e+04   1.81e+04      4.010      0.000    3.68e+04    1.08e+05\n",
              "disciplines_Mathematics                             -7716.5258   4743.106     -1.627      0.105   -1.71e+04    1621.649\n",
              "disciplines_Political Science                       -8336.0644   1.42e+04     -0.587      0.558   -3.63e+04    1.96e+04\n",
              "disciplines_Psychology                               1.806e+04   1.47e+04      1.232      0.219   -1.08e+04    4.69e+04\n",
              "disciplines_Public Health                           -1.932e+04    1.1e+04     -1.757      0.080    -4.1e+04    2328.410\n",
              "disciplines_Public Policy                            2.128e+04   8574.309      2.482      0.014    4397.092    3.82e+04\n",
              "disciplines_Social Work                             -8446.3899   1.43e+04     -0.592      0.554   -3.65e+04    1.96e+04\n",
              "disciplines_Statistics                               3030.2454   3096.267      0.979      0.329   -3065.652    9126.143\n",
              "disciplines_Technology Management                    -1.22e+04   1.04e+04     -1.171      0.242   -3.27e+04    8303.538\n",
              "delivered_Blended                                   -6208.9947   4703.040     -1.320      0.188   -1.55e+04    3050.299\n",
              "delivered_On Campus                                  -888.1053   2620.732     -0.339      0.735   -6047.773    4271.562\n",
              "delivered_Online                                    -1.167e+04   4143.246     -2.817      0.005   -1.98e+04   -3513.422\n",
              "gre_Not Required                                     1.398e+04   2552.680      5.477      0.000    8955.669     1.9e+04\n",
              "gre_Required                                         1.422e+04   2579.131      5.512      0.000    9137.468    1.93e+04\n",
              "==============================================================================\n",
              "Omnibus:                       14.548   Durbin-Watson:                   1.949\n",
              "Prob(Omnibus):                  0.001   Jarque-Bera (JB):               16.777\n",
              "Skew:                           0.392   Prob(JB):                     0.000227\n",
              "Kurtosis:                       3.679   Cond. No.                     9.31e+17\n",
              "==============================================================================\n",
              "\n",
              "Warnings:\n",
              "[1] Standard Errors assume that the covariance matrix of the errors is correctly specified.\n",
              "[2] The smallest eigenvalue is 2.18e-29. This might indicate that there are\n",
              "strong multicollinearity problems or that the design matrix is singular.\n",
              "\"\"\""
            ]
          },
          "metadata": {
            "tags": []
          },
          "execution_count": 11
        }
      ]
    },
    {
      "cell_type": "code",
      "metadata": {
        "id": "RsBGNtlQo5yv",
        "colab_type": "code",
        "colab": {
          "base_uri": "https://localhost:8080/",
          "height": 35
        },
        "outputId": "c739a92e-33cb-4db8-aaee-9c0b5b92d642"
      },
      "source": [
        "# sklearn multiple linear regression\n",
        "lm = LinearRegression()\n",
        "lm.fit(X_train, y_train)\n",
        "\n",
        "np.mean(cross_val_score(lm,X_train,y_train, scoring = 'neg_mean_absolute_error', cv=2))"
      ],
      "execution_count": null,
      "outputs": [
        {
          "output_type": "execute_result",
          "data": {
            "text/plain": [
              "-15258.587148200215"
            ]
          },
          "metadata": {
            "tags": []
          },
          "execution_count": 12
        }
      ]
    },
    {
      "cell_type": "code",
      "metadata": {
        "id": "xbw6Yxi5lnUi",
        "colab_type": "code",
        "colab": {
          "base_uri": "https://localhost:8080/",
          "height": 35
        },
        "outputId": "206d9f71-5077-4049-de33-fce273458efc"
      },
      "source": [
        "# lasso regression\n",
        "lm_l = Lasso(alpha=1,max_iter=100000)\n",
        "lm_l.fit(X_train,y_train)\n",
        "np.mean(cross_val_score(lm_l,X_train,y_train, scoring = 'neg_mean_absolute_error', cv= 3))"
      ],
      "execution_count": null,
      "outputs": [
        {
          "output_type": "execute_result",
          "data": {
            "text/plain": [
              "-14139.922720804176"
            ]
          },
          "metadata": {
            "tags": []
          },
          "execution_count": 13
        }
      ]
    },
    {
      "cell_type": "code",
      "metadata": {
        "id": "EgD_oAFeLBmD",
        "colab_type": "code",
        "colab": {}
      },
      "source": [
        "coef = pd.Series(lm_l.coef_, index = X_train.columns)"
      ],
      "execution_count": null,
      "outputs": []
    },
    {
      "cell_type": "code",
      "metadata": {
        "id": "iTwBMAsrLIC8",
        "colab_type": "code",
        "colab": {
          "base_uri": "https://localhost:8080/",
          "height": 35
        },
        "outputId": "cdbb2dc8-f395-420b-8cb8-3ed725c140ed"
      },
      "source": [
        "print(\"Lasso picked \" + str(sum(coef != 0)) + \" variables and eliminated the other \" +  str(sum(coef == 0)) + \" variables\")"
      ],
      "execution_count": null,
      "outputs": [
        {
          "output_type": "stream",
          "text": [
            "Lasso picked 101 variables and eliminated the other 6 variables\n"
          ],
          "name": "stdout"
        }
      ]
    },
    {
      "cell_type": "code",
      "metadata": {
        "id": "BbGmS9EwK3C-",
        "colab_type": "code",
        "colab": {
          "base_uri": "https://localhost:8080/",
          "height": 625
        },
        "outputId": "948d8809-94a1-4dc0-95e7-17fcbfe1cb35"
      },
      "source": [
        "imp_coef = pd.concat([coef.sort_values().head(10),\n",
        "                     coef.sort_values().tail(10)])\n",
        "matplotlib.rcParams['figure.figsize'] = (8.0, 10.0)\n",
        "imp_coef.plot(kind = \"barh\")\n",
        "plt.title(\"Coefficients in the Lasso Model\")"
      ],
      "execution_count": null,
      "outputs": [
        {
          "output_type": "execute_result",
          "data": {
            "text/plain": [
              "Text(0.5, 1.0, 'Coefficients in the Lasso Model')"
            ]
          },
          "metadata": {
            "tags": []
          },
          "execution_count": 16
        },
        {
          "output_type": "display_data",
          "data": {
            "image/png": "[encoded data removed]",
            "text/plain": [
              "<Figure size 576x720 with 1 Axes>"
            ]
          },
          "metadata": {
            "tags": [],
            "needs_background": "light"
          }
        }
      ]
    },
    {
      "cell_type": "code",
      "metadata": {
        "id": "Pf5f33BixO3O",
        "colab_type": "code",
        "colab": {
          "base_uri": "https://localhost:8080/",
          "height": 35
        },
        "outputId": "f1d07cb4-b8d8-4154-e7d4-eeb2aff7d0bf"
      },
      "source": [
        "# random forest \n",
        "from sklearn.ensemble import RandomForestRegressor\n",
        "rf = RandomForestRegressor()\n",
        "\n",
        "np.mean(cross_val_score(rf,X_train,y_train,scoring = 'neg_mean_absolute_error', cv= 3))"
      ],
      "execution_count": null,
      "outputs": [
        {
          "output_type": "execute_result",
          "data": {
            "text/plain": [
              "-11511.74055185185"
            ]
          },
          "metadata": {
            "tags": []
          },
          "execution_count": 17
        }
      ]
    },
    {
      "cell_type": "code",
      "metadata": {
        "id": "w8NhQYMQxrvD",
        "colab_type": "code",
        "colab": {
          "base_uri": "https://localhost:8080/",
          "height": 381
        },
        "outputId": "cfb296ae-f04e-43e9-fc56-107f17b0c1a7"
      },
      "source": [
        "# tune random forest w/ GridsearchCV \n",
        "from sklearn.model_selection import GridSearchCV\n",
        "parameters = {'n_estimators':range(10,300,10), 'criterion':('mse','mae'), 'max_features':('auto','sqrt','log2')}\n",
        "gs = GridSearchCV(rf,parameters,scoring='neg_mean_absolute_error',cv=3)\n",
        "gs.fit(X_train,y_train)"
      ],
      "execution_count": null,
      "outputs": [
        {
          "output_type": "execute_result",
          "data": {
            "text/plain": [
              "GridSearchCV(cv=3, error_score=nan,\n",
              "             estimator=RandomForestRegressor(bootstrap=True, ccp_alpha=0.0,\n",
              "                                             criterion='mse', max_depth=None,\n",
              "                                             max_features='auto',\n",
              "                                             max_leaf_nodes=None,\n",
              "                                             max_samples=None,\n",
              "                                             min_impurity_decrease=0.0,\n",
              "                                             min_impurity_split=None,\n",
              "                                             min_samples_leaf=1,\n",
              "                                             min_samples_split=2,\n",
              "                                             min_weight_fraction_leaf=0.0,\n",
              "                                             n_estimators=100, n_jobs=None,\n",
              "                                             oob_score=False, random_state=None,\n",
              "                                             verbose=0, warm_start=False),\n",
              "             iid='deprecated', n_jobs=None,\n",
              "             param_grid={'criterion': ('mse', 'mae'),\n",
              "                         'max_features': ('auto', 'sqrt', 'log2'),\n",
              "                         'n_estimators': range(10, 300, 10)},\n",
              "             pre_dispatch='2*n_jobs', refit=True, return_train_score=False,\n",
              "             scoring='neg_mean_absolute_error', verbose=0)"
            ]
          },
          "metadata": {
            "tags": []
          },
          "execution_count": 18
        }
      ]
    },
    {
      "cell_type": "code",
      "metadata": {
        "id": "1XaZCmx30lXT",
        "colab_type": "code",
        "colab": {
          "base_uri": "https://localhost:8080/",
          "height": 35
        },
        "outputId": "9bc81fbd-7600-4449-8b50-34d966f7ce1e"
      },
      "source": [
        "gs.best_score_"
      ],
      "execution_count": null,
      "outputs": [
        {
          "output_type": "execute_result",
          "data": {
            "text/plain": [
              "-11225.534094276096"
            ]
          },
          "metadata": {
            "tags": []
          },
          "execution_count": 19
        }
      ]
    },
    {
      "cell_type": "code",
      "metadata": {
        "id": "ZBQCJxny0ulx",
        "colab_type": "code",
        "colab": {
          "base_uri": "https://localhost:8080/",
          "height": 145
        },
        "outputId": "c081099c-ce6f-43df-e9bf-9b6f4eda860e"
      },
      "source": [
        "gs.best_estimator_"
      ],
      "execution_count": null,
      "outputs": [
        {
          "output_type": "execute_result",
          "data": {
            "text/plain": [
              "RandomForestRegressor(bootstrap=True, ccp_alpha=0.0, criterion='mae',\n",
              "                      max_depth=None, max_features='auto', max_leaf_nodes=None,\n",
              "                      max_samples=None, min_impurity_decrease=0.0,\n",
              "                      min_impurity_split=None, min_samples_leaf=1,\n",
              "                      min_samples_split=2, min_weight_fraction_leaf=0.0,\n",
              "                      n_estimators=80, n_jobs=None, oob_score=False,\n",
              "                      random_state=None, verbose=0, warm_start=False)"
            ]
          },
          "metadata": {
            "tags": []
          },
          "execution_count": 20
        }
      ]
    },
    {
      "cell_type": "code",
      "metadata": {
        "id": "V1gY1FT5HSfb",
        "colab_type": "code",
        "colab": {}
      },
      "source": [
        "# support vector regression\n",
        "from sklearn.preprocessing import StandardScaler\n",
        "sc_X = StandardScaler()\n",
        "sc_Y = StandardScaler()\n",
        "X = sc_X.fit_transform(X)\n",
        "y = np.squeeze(sc_Y.fit_transform(y.reshape(-1, 1)))"
      ],
      "execution_count": null,
      "outputs": []
    },
    {
      "cell_type": "code",
      "metadata": {
        "id": "1KqzBWbXTDSc",
        "colab_type": "code",
        "colab": {
          "base_uri": "https://localhost:8080/",
          "height": 54
        },
        "outputId": "3d13362f-2231-4749-b084-39994eb21a9c"
      },
      "source": [
        "from sklearn.svm import SVR\n",
        "regressor = SVR(kernel = 'rbf')\n",
        "regressor.fit(X, y)"
      ],
      "execution_count": null,
      "outputs": [
        {
          "output_type": "execute_result",
          "data": {
            "text/plain": [
              "SVR(C=1.0, cache_size=200, coef0=0.0, degree=3, epsilon=0.1, gamma='scale',\n",
              "    kernel='rbf', max_iter=-1, shrinking=True, tol=0.001, verbose=False)"
            ]
          },
          "metadata": {
            "tags": []
          },
          "execution_count": 22
        }
      ]
    },
    {
      "cell_type": "code",
      "metadata": {
        "id": "RWbISX8aTU8w",
        "colab_type": "code",
        "colab": {
          "base_uri": "https://localhost:8080/",
          "height": 35
        },
        "outputId": "b93ddfd9-9cc4-46df-e069-206e27e54a1b"
      },
      "source": [
        "np.mean(cross_val_score(regressor,X_train,y_train,scoring = 'neg_mean_absolute_error', cv= 3))"
      ],
      "execution_count": null,
      "outputs": [
        {
          "output_type": "execute_result",
          "data": {
            "text/plain": [
              "-15238.470387396112"
            ]
          },
          "metadata": {
            "tags": []
          },
          "execution_count": 23
        }
      ]
    },
    {
      "cell_type": "code",
      "metadata": {
        "id": "7TS5KQ6ZTHhT",
        "colab_type": "code",
        "colab": {
          "base_uri": "https://localhost:8080/",
          "height": 35
        },
        "outputId": "7d70dfbf-ad02-45a4-ff06-2205bb154e64"
      },
      "source": [
        "# xgboost\n",
        "X = df_dum.drop('tuition', axis =1)\n",
        "y = df_dum.tuition.values\n",
        "X_train, X_test, y_train, y_test = train_test_split(X, y, test_size=0.2, random_state=42)\n",
        "from xgboost import XGBRegressor\n",
        "my_model = XGBRegressor(silent = True)\n",
        "my_model.fit(X_train, y_train, verbose=False)\n",
        "np.mean(cross_val_score(my_model,X_train,y_train,scoring = 'neg_mean_absolute_error', cv= 3))"
      ],
      "execution_count": null,
      "outputs": [
        {
          "output_type": "execute_result",
          "data": {
            "text/plain": [
              "-12013.241117888683"
            ]
          },
          "metadata": {
            "tags": []
          },
          "execution_count": 24
        }
      ]
    },
    {
      "cell_type": "code",
      "metadata": {
        "id": "m3R0j2ZEXHC-",
        "colab_type": "code",
        "colab": {
          "base_uri": "https://localhost:8080/",
          "height": 35
        },
        "outputId": "d64e4ce5-bdef-4f42-a1de-f6884ce13975"
      },
      "source": [
        "# tuning xgboost\n",
        "my_model = XGBRegressor(n_estimators=1000, learning_rate=0.01, silent = True)\n",
        "my_model.fit(X_train, y_train, early_stopping_rounds=5, \n",
        "             eval_set=[(X_test, y_test)], verbose=False)\n",
        "np.mean(cross_val_score(my_model,X_train,y_train,scoring = 'neg_mean_absolute_error', cv= 3))"
      ],
      "execution_count": null,
      "outputs": [
        {
          "output_type": "execute_result",
          "data": {
            "text/plain": [
              "-11927.41181820648"
            ]
          },
          "metadata": {
            "tags": []
          },
          "execution_count": 25
        }
      ]
    },
    {
      "cell_type": "code",
      "metadata": {
        "id": "pRxVaxzGF8Rd",
        "colab_type": "code",
        "colab": {}
      },
      "source": [
        "tpred_lm = lm.predict(X_test)\n",
        "tpred_lml = lm_l.predict(X_test)\n",
        "tpred_rf = gs.best_estimator_.predict(X_test)\n",
        "tpred_xgb = my_model.predict(X_test)"
      ],
      "execution_count": null,
      "outputs": []
    },
    {
      "cell_type": "code",
      "metadata": {
        "id": "fw5Pe3_uGqnn",
        "colab_type": "code",
        "colab": {
          "base_uri": "https://localhost:8080/",
          "height": 35
        },
        "outputId": "73321781-348d-40d4-e926-058ecc876ff0"
      },
      "source": [
        "from sklearn.metrics import mean_absolute_error\n",
        "mean_absolute_error(y_test,tpred_lm)"
      ],
      "execution_count": null,
      "outputs": [
        {
          "output_type": "execute_result",
          "data": {
            "text/plain": [
              "2325392504296.5835"
            ]
          },
          "metadata": {
            "tags": []
          },
          "execution_count": 28
        }
      ]
    },
    {
      "cell_type": "code",
      "metadata": {
        "id": "7uFucC2cG1JJ",
        "colab_type": "code",
        "colab": {
          "base_uri": "https://localhost:8080/",
          "height": 35
        },
        "outputId": "414d4aa6-d6c9-4080-ac71-20ccce9d11b1"
      },
      "source": [
        "mean_absolute_error(y_test,tpred_lml)"
      ],
      "execution_count": null,
      "outputs": [
        {
          "output_type": "execute_result",
          "data": {
            "text/plain": [
              "12644.761504099342"
            ]
          },
          "metadata": {
            "tags": []
          },
          "execution_count": 29
        }
      ]
    },
    {
      "cell_type": "code",
      "metadata": {
        "id": "AIKvdXT3Gqro",
        "colab_type": "code",
        "colab": {
          "base_uri": "https://localhost:8080/",
          "height": 35
        },
        "outputId": "9c6c1828-e94d-45b8-debf-76fd5a971da8"
      },
      "source": [
        "mean_absolute_error(y_test,tpred_rf)"
      ],
      "execution_count": null,
      "outputs": [
        {
          "output_type": "execute_result",
          "data": {
            "text/plain": [
              "10954.566666666668"
            ]
          },
          "metadata": {
            "tags": []
          },
          "execution_count": 30
        }
      ]
    },
    {
      "cell_type": "code",
      "metadata": {
        "id": "HPFVWedjGq4Y",
        "colab_type": "code",
        "colab": {
          "base_uri": "https://localhost:8080/",
          "height": 35
        },
        "outputId": "6bbdef0a-f3c5-48a6-af3c-86f105b5ffa4"
      },
      "source": [
        "mean_absolute_error(y_test,tpred_xgb)"
      ],
      "execution_count": null,
      "outputs": [
        {
          "output_type": "execute_result",
          "data": {
            "text/plain": [
              "11988.921188151042"
            ]
          },
          "metadata": {
            "tags": []
          },
          "execution_count": 31
        }
      ]
    },
    {
      "cell_type": "code",
      "metadata": {
        "id": "1R5GSZ7QgVLf",
        "colab_type": "code",
        "colab": {}
      },
      "source": [
        "X = df_dum.drop('tuition', axis =1)\n",
        "y = df_dum.tuition.values\n",
        "regressor = SVR(kernel = 'rbf')\n",
        "regressor.fit(X, y)\n",
        "tpred_svr = regressor.predict(X_test)"
      ],
      "execution_count": null,
      "outputs": []
    },
    {
      "cell_type": "code",
      "metadata": {
        "id": "GK-e_qJaGqzd",
        "colab_type": "code",
        "colab": {
          "base_uri": "https://localhost:8080/",
          "height": 35
        },
        "outputId": "ef76c357-1086-41de-c198-f191ea732e32"
      },
      "source": [
        "mean_absolute_error(y_test,tpred_svr)"
      ],
      "execution_count": null,
      "outputs": [
        {
          "output_type": "execute_result",
          "data": {
            "text/plain": [
              "15750.646881359253"
            ]
          },
          "metadata": {
            "tags": []
          },
          "execution_count": 34
        }
      ]
    }
  ]
}